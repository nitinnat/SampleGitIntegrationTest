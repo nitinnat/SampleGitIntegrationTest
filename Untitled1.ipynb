{
 "cells": [
  {
   "cell_type": "code",
   "execution_count": 1,
   "id": "c3df1629-30e8-4bc9-bf4d-e06598814c6e",
   "metadata": {},
   "outputs": [
    {
     "name": "stdout",
     "output_type": "stream",
     "text": [
      "4+5\n"
     ]
    }
   ],
   "source": [
    "import pandas as pd\n",
    "print(\"4+5\")"
   ]
  },
  {
   "cell_type": "code",
   "execution_count": null,
   "id": "9b4ea58a-e732-4f09-9d7f-9ddfd9f895e8",
   "metadata": {},
   "outputs": [],
   "source": []
  }
 ],
 "metadata": {
  "kernelspec": {
   "display_name": "Python 3",
   "language": "python",
   "name": "python3"
  },
  "language_info": {
   "codemirror_mode": {
    "name": "ipython",
    "version": 3
   },
   "file_extension": ".py",
   "mimetype": "text/x-python",
   "name": "python",
   "nbconvert_exporter": "python",
   "pygments_lexer": "ipython3",
   "version": "3.9.4"
  }
 },
 "nbformat": 4,
 "nbformat_minor": 5
}
